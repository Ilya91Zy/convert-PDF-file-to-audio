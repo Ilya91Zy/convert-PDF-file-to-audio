{
 "cells": [
  {
   "cell_type": "code",
   "execution_count": null,
   "id": "eb8b71ae",
   "metadata": {},
   "outputs": [],
   "source": [
    "import PyPDF2\n",
    "import pyttsx3\n",
    "\n",
    "pdf_filename = input (\"Введите название файла(включая расширение):\").strip()\n",
    "\n",
    "try:\n",
    "    with open(pdf_filename, 'rb') as pdf_file:\n",
    "        pdf_reader = PyPDF2.PdfReader(pdf_file)\n",
    "        \n",
    "        speak = pyttsx3.init()\n",
    "        \n",
    "        for page_num in range(len(pdf_reader.pages)):\n",
    "            page = pdf_reader.pages[page_num]\n",
    "            text = page.extract_text()\n",
    "            if text:\n",
    "                speak.say(text)\n",
    "                speak.runAndWait()\n",
    "        speak.stop()\n",
    "        \n",
    "        print(\"Аудиочтение завершино\")\n",
    "\n",
    "except FileNotFoundError:\n",
    "    print('Файл не найден')\n",
    "except Exception as e:\n",
    "    print(f\"Произошла ошибка {e}\")\n",
    "    "
   ]
  },
  {
   "cell_type": "code",
   "execution_count": null,
   "id": "868d4979",
   "metadata": {},
   "outputs": [],
   "source": []
  }
 ],
 "metadata": {
  "kernelspec": {
   "display_name": "Python 3 (ipykernel)",
   "language": "python",
   "name": "python3"
  },
  "language_info": {
   "codemirror_mode": {
    "name": "ipython",
    "version": 3
   },
   "file_extension": ".py",
   "mimetype": "text/x-python",
   "name": "python",
   "nbconvert_exporter": "python",
   "pygments_lexer": "ipython3",
   "version": "3.11.5"
  }
 },
 "nbformat": 4,
 "nbformat_minor": 5
}
